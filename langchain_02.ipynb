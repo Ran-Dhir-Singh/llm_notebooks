{
  "nbformat": 4,
  "nbformat_minor": 0,
  "metadata": {
    "colab": {
      "provenance": [],
      "authorship_tag": "ABX9TyO0PuZc9vjZizqVe4U1jiVz",
      "include_colab_link": true
    },
    "kernelspec": {
      "name": "python3",
      "display_name": "Python 3"
    },
    "language_info": {
      "name": "python"
    }
  },
  "cells": [
    {
      "cell_type": "markdown",
      "metadata": {
        "id": "view-in-github",
        "colab_type": "text"
      },
      "source": [
        "<a href=\"https://colab.research.google.com/github/Ran-Dhir-Singh/llm_notebooks/blob/main/langchain_02.ipynb\" target=\"_parent\"><img src=\"https://colab.research.google.com/assets/colab-badge.svg\" alt=\"Open In Colab\"/></a>"
      ]
    },
    {
      "cell_type": "code",
      "execution_count": null,
      "metadata": {
        "id": "Eqv-6vVGntAW"
      },
      "outputs": [],
      "source": [
        "!pip install langchain==0.0.208 deeplake openai tiktoken\n"
      ]
    },
    {
      "cell_type": "markdown",
      "source": [
        "## Prompt Use Case"
      ],
      "metadata": {
        "id": "1pH4HuyEyNwK"
      }
    },
    {
      "cell_type": "code",
      "source": [
        "from langchain.chat_models import ChatOpenAI\n",
        "from langchain.prompts.chat import (\n",
        "    ChatPromptTemplate,\n",
        "    SystemMessagePromptTemplate,\n",
        "    HumanMessagePromptTemplate)\n",
        "\n",
        "import sys, os\n",
        "from getpass import getpass"
      ],
      "metadata": {
        "id": "6t8ep_D0ybws"
      },
      "execution_count": 8,
      "outputs": []
    },
    {
      "cell_type": "code",
      "source": [
        "OPENAI_KEY = getpass(\"Enter OPENAI Key\")"
      ],
      "metadata": {
        "colab": {
          "base_uri": "https://localhost:8080/"
        },
        "id": "Dve-A5J2zfDd",
        "outputId": "c1f3aafb-2bc5-47cc-af3c-02cf48573b6f"
      },
      "execution_count": 5,
      "outputs": [
        {
          "name": "stdout",
          "output_type": "stream",
          "text": [
            "Enter OPENAI Key··········\n"
          ]
        }
      ]
    },
    {
      "cell_type": "code",
      "source": [
        "os.environ[\"OPENAI_KEY\"] = OPENAI_KEY"
      ],
      "metadata": {
        "id": "s1oYhZNHzykr"
      },
      "execution_count": 7,
      "outputs": []
    },
    {
      "cell_type": "code",
      "source": [
        "chat = ChatOpenAI(model_name=\"gpt-3.5-turbo\", temperature=0, openai_api_key=OPENAI_KEY)\n",
        "\n",
        "template = \"You are an assistant that helps user find information about movies\"\n",
        "system_message_prompt = SystemMessagePromptTemplate.from_template(template=template)\n",
        "\n",
        "human_template = \"Find information about the movie {movie_title}\"\n",
        "human_message_prompt = HumanMessagePromptTemplate.from_template(template=human_template)\n",
        "\n",
        "chat_prompt = ChatPromptTemplate.from_messages([system_message_prompt,human_message_prompt])\n",
        "\n",
        "response = chat(chat_prompt.format_prompt(movie_title=\"Dangal\").to_messages())\n",
        "\n",
        "print(response.content)"
      ],
      "metadata": {
        "colab": {
          "base_uri": "https://localhost:8080/"
        },
        "id": "MS5Cz1Lgz_7w",
        "outputId": "0f44ec1c-5706-4840-e0f3-786038e80665"
      },
      "execution_count": 9,
      "outputs": [
        {
          "output_type": "stream",
          "name": "stdout",
          "text": [
            "\"Dangal\" is a Hindi-language sports biographical film released in 2016. It was directed by Nitesh Tiwari and produced by Aamir Khan, Kiran Rao, and Siddharth Roy Kapur. The film is based on the true story of Mahavir Singh Phogat, a former wrestler and his daughters Geeta and Babita Phogat, who become successful wrestlers themselves.\n",
            "\n",
            "The movie stars Aamir Khan in the lead role, along with Sakshi Tanwar, Fatima Sana Shaikh, and Sanya Malhotra portraying pivotal characters. \"Dangal\" received critical acclaim for its performances, direction, and storytelling. It was also a commercial success, becoming one of the highest-grossing Indian films of all time.\n",
            "\n",
            "The film showcases the journey of Mahavir Singh Phogat as he trains his daughters against societal norms and challenges to become world-class wrestlers. It explores themes of gender equality, determination, and the power of dreams.\n",
            "\n",
            "\"Dangal\" won several awards, including the National Film Award for Best Popular Film Providing Wholesome Entertainment. It was also India's official entry for the Best Foreign Language Film category at the 89th Academy Awards.\n",
            "\n",
            "If you are interested in watching \"Dangal,\" you can find it on various streaming platforms or purchase the DVD or Blu-ray.\n"
          ]
        }
      ]
    },
    {
      "cell_type": "markdown",
      "source": [
        "## Summarization chain example"
      ],
      "metadata": {
        "id": "QIBd6MG21fPB"
      }
    },
    {
      "cell_type": "code",
      "source": [
        "from langchain import OpenAI, PromptTemplate\n",
        "from langchain.chains.summarize import load_summarize_chain\n",
        "from langchain.document_loaders import PyPDFLoader"
      ],
      "metadata": {
        "id": "-Uh3Knzr16hr"
      },
      "execution_count": 13,
      "outputs": []
    },
    {
      "cell_type": "code",
      "source": [
        "!pip install pypdf"
      ],
      "metadata": {
        "colab": {
          "base_uri": "https://localhost:8080/"
        },
        "id": "cqS6xkbs6zCh",
        "outputId": "9bf833d9-6ddb-4da7-e708-45ce02b80130"
      },
      "execution_count": 12,
      "outputs": [
        {
          "output_type": "stream",
          "name": "stdout",
          "text": [
            "Collecting pypdf\n",
            "  Downloading pypdf-3.16.4-py3-none-any.whl (276 kB)\n",
            "\u001b[?25l     \u001b[90m━━━━━━━━━━━━━━━━━━━━━━━━━━━━━━━━━━━━━━━━\u001b[0m \u001b[32m0.0/276.6 kB\u001b[0m \u001b[31m?\u001b[0m eta \u001b[36m-:--:--\u001b[0m\r\u001b[2K     \u001b[91m━━━━━━━━━━━\u001b[0m\u001b[91m╸\u001b[0m\u001b[90m━━━━━━━━━━━━━━━━━━━━━━━━━━━━\u001b[0m \u001b[32m81.9/276.6 kB\u001b[0m \u001b[31m2.4 MB/s\u001b[0m eta \u001b[36m0:00:01\u001b[0m\r\u001b[2K     \u001b[90m━━━━━━━━━━━━━━━━━━━━━━━━━━━━━━━━━━━━━━━━\u001b[0m \u001b[32m276.6/276.6 kB\u001b[0m \u001b[31m5.1 MB/s\u001b[0m eta \u001b[36m0:00:00\u001b[0m\n",
            "\u001b[?25hInstalling collected packages: pypdf\n",
            "Successfully installed pypdf-3.16.4\n"
          ]
        }
      ]
    },
    {
      "cell_type": "code",
      "source": [],
      "metadata": {
        "id": "Mxzjm_6564FL"
      },
      "execution_count": null,
      "outputs": []
    },
    {
      "cell_type": "code",
      "source": [
        "llm = OpenAI(model_name=\"text-davinci-003\", temperature=0, openai_api_key=OPENAI_KEY)\n",
        "\n",
        "summarize_chain = load_summarize_chain(llm)\n",
        "\n",
        "document_loader = PyPDFLoader(file_path=\"/content/Randhir's-Resume.pdf\")\n",
        "\n",
        "document = document_loader.load()\n",
        "\n",
        "summary = summarize_chain(document)\n",
        "print(summary['output_text'])"
      ],
      "metadata": {
        "colab": {
          "base_uri": "https://localhost:8080/"
        },
        "id": "J4j7Om0B5uEu",
        "outputId": "67fd1aa6-627d-4862-ec4b-1050bb85ab53"
      },
      "execution_count": 15,
      "outputs": [
        {
          "output_type": "stream",
          "name": "stdout",
          "text": [
            " Randhir Singh is a Data Science/ML Engineer with experience in building ML models, Deep Learning models, LLM's, and Generative AI apps. He has worked as a Test Analyst at Infosys Ltd and has completed projects such as Diamond Price Prediction, Sensor Fault Detection, Food Classification, PDF Chatbot, and Podcast Summarizer. He has certifications in Oracle Cloud Infrastructure, Machine Learning, TensorFlow, and OpenAI. He is interested in LLM, Machine Learning, Data Science, AI, and Deep Learning.\n"
          ]
        }
      ]
    },
    {
      "cell_type": "code",
      "source": [],
      "metadata": {
        "id": "FV7Hm_xb7Xw_"
      },
      "execution_count": null,
      "outputs": []
    }
  ]
}